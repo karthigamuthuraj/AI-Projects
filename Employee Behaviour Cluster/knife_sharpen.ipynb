{
 "cells": [
  {
   "cell_type": "code",
   "execution_count": 1,
   "metadata": {},
   "outputs": [],
   "source": [
    "import pandas as pd"
   ]
  },
  {
   "cell_type": "code",
   "execution_count": 2,
   "metadata": {},
   "outputs": [],
   "source": [
    "dataset = pd.read_csv('sharpening_data.csv');"
   ]
  },
  {
   "cell_type": "code",
   "execution_count": 3,
   "metadata": {},
   "outputs": [
    {
     "name": "stdout",
     "output_type": "stream",
     "text": [
      "<class 'pandas.core.frame.DataFrame'>\n",
      "RangeIndex: 33953 entries, 0 to 33952\n",
      "Data columns (total 4 columns):\n",
      " #   Column          Non-Null Count  Dtype  \n",
      "---  ------          --------------  -----  \n",
      " 0   username        33912 non-null  float64\n",
      " 1   first_name      33912 non-null  object \n",
      " 2   sharpened_date  33953 non-null  object \n",
      " 3   asset_no        33953 non-null  object \n",
      "dtypes: float64(1), object(3)\n",
      "memory usage: 1.0+ MB\n"
     ]
    }
   ],
   "source": [
    "dataset.info()"
   ]
  },
  {
   "cell_type": "code",
   "execution_count": 4,
   "metadata": {},
   "outputs": [],
   "source": [
    "df = pd.DataFrame(dataset)"
   ]
  },
  {
   "cell_type": "code",
   "execution_count": 5,
   "metadata": {},
   "outputs": [],
   "source": [
    "# Convert `sharpened_date` to datetime\n",
    "df['sharpened_date'] = pd.to_datetime(df['sharpened_date'])"
   ]
  },
  {
   "cell_type": "code",
   "execution_count": 6,
   "metadata": {},
   "outputs": [
    {
     "name": "stdout",
     "output_type": "stream",
     "text": [
      "       username first_name      sharpened_date   asset_no\n",
      "0       12456.0      Angie 2020-09-10 11:32:40  TUKN60075\n",
      "1       12456.0      Angie 2020-09-10 11:32:40  TUKN30070\n",
      "2       12456.0      Angie 2020-09-10 11:32:40  TUKN60045\n",
      "3       12456.0      Angie 2020-09-10 11:32:40  TUKN60008\n",
      "4       12456.0      Angie 2020-09-10 11:32:40  TUKN60011\n",
      "...         ...        ...                 ...        ...\n",
      "33948   13337.0      Chris 2020-12-01 07:29:06  TUKN30797\n",
      "33949   13337.0      Chris 2020-12-01 07:29:06  TUKN30799\n",
      "33950   13337.0      Chris 2020-12-01 07:29:06  TUKN30772\n",
      "33951   13337.0      Chris 2020-12-01 07:29:06  TUKN30770\n",
      "33952   13337.0      Chris 2020-12-01 07:29:06  TUKN30773\n",
      "\n",
      "[33953 rows x 4 columns]\n"
     ]
    }
   ],
   "source": [
    "print(df)"
   ]
  },
  {
   "cell_type": "code",
   "execution_count": 7,
   "metadata": {},
   "outputs": [
    {
     "data": {
      "text/html": [
       "<div>\n",
       "<style scoped>\n",
       "    .dataframe tbody tr th:only-of-type {\n",
       "        vertical-align: middle;\n",
       "    }\n",
       "\n",
       "    .dataframe tbody tr th {\n",
       "        vertical-align: top;\n",
       "    }\n",
       "\n",
       "    .dataframe thead th {\n",
       "        text-align: right;\n",
       "    }\n",
       "</style>\n",
       "<table border=\"1\" class=\"dataframe\">\n",
       "  <thead>\n",
       "    <tr style=\"text-align: right;\">\n",
       "      <th></th>\n",
       "      <th>username</th>\n",
       "      <th>num_sharpenings</th>\n",
       "    </tr>\n",
       "  </thead>\n",
       "  <tbody>\n",
       "    <tr>\n",
       "      <th>0</th>\n",
       "      <td>1.0</td>\n",
       "      <td>75</td>\n",
       "    </tr>\n",
       "    <tr>\n",
       "      <th>1</th>\n",
       "      <td>2.0</td>\n",
       "      <td>10</td>\n",
       "    </tr>\n",
       "    <tr>\n",
       "      <th>2</th>\n",
       "      <td>559.0</td>\n",
       "      <td>1</td>\n",
       "    </tr>\n",
       "    <tr>\n",
       "      <th>3</th>\n",
       "      <td>1234.0</td>\n",
       "      <td>12</td>\n",
       "    </tr>\n",
       "    <tr>\n",
       "      <th>4</th>\n",
       "      <td>11656.0</td>\n",
       "      <td>440</td>\n",
       "    </tr>\n",
       "    <tr>\n",
       "      <th>5</th>\n",
       "      <td>12456.0</td>\n",
       "      <td>17878</td>\n",
       "    </tr>\n",
       "    <tr>\n",
       "      <th>6</th>\n",
       "      <td>12476.0</td>\n",
       "      <td>4921</td>\n",
       "    </tr>\n",
       "    <tr>\n",
       "      <th>7</th>\n",
       "      <td>13048.0</td>\n",
       "      <td>1302</td>\n",
       "    </tr>\n",
       "    <tr>\n",
       "      <th>8</th>\n",
       "      <td>13337.0</td>\n",
       "      <td>5892</td>\n",
       "    </tr>\n",
       "    <tr>\n",
       "      <th>9</th>\n",
       "      <td>14344.0</td>\n",
       "      <td>3381</td>\n",
       "    </tr>\n",
       "  </tbody>\n",
       "</table>\n",
       "</div>"
      ],
      "text/plain": [
       "   username  num_sharpenings\n",
       "0       1.0               75\n",
       "1       2.0               10\n",
       "2     559.0                1\n",
       "3    1234.0               12\n",
       "4   11656.0              440\n",
       "5   12456.0            17878\n",
       "6   12476.0             4921\n",
       "7   13048.0             1302\n",
       "8   13337.0             5892\n",
       "9   14344.0             3381"
      ]
     },
     "execution_count": 7,
     "metadata": {},
     "output_type": "execute_result"
    }
   ],
   "source": [
    "# Feature 1: Number of Sharpenings per Employee\n",
    "sharpening_counts = df.groupby('username').size().reset_index(name='num_sharpenings')\n",
    "\n",
    "sharpening_counts\n",
    "\n",
    "\n"
   ]
  },
  {
   "cell_type": "code",
   "execution_count": 8,
   "metadata": {},
   "outputs": [
    {
     "name": "stdout",
     "output_type": "stream",
     "text": [
      "   username  num_sharpenings  interval_days\n",
      "0       1.0               75             34\n",
      "1       2.0               10             71\n",
      "2     559.0                1              0\n",
      "3    1234.0               12            152\n",
      "4   11656.0              440             19\n",
      "5   12456.0            17878            800\n",
      "6   12476.0             4921            191\n",
      "7   13048.0             1302            637\n",
      "8   13337.0             5892            365\n",
      "9   14344.0             3381            131\n"
     ]
    }
   ],
   "source": [
    "# Feature 2: Time Interval between first and last sharpening events\n",
    "sharpening_intervals = df.groupby('username').agg({\n",
    "    'sharpened_date': ['min', 'max']\n",
    "}).reset_index()\n",
    "sharpening_intervals.columns = ['username', 'first_sharpening', 'last_sharpening']\n",
    "sharpening_intervals['interval_days'] = (sharpening_intervals['last_sharpening'] - sharpening_intervals['first_sharpening']).dt.days\n",
    "\n",
    "# Merge features\n",
    "features = pd.merge(sharpening_counts, sharpening_intervals[['username', 'interval_days']], on='username')\n",
    "\n",
    "print(features)"
   ]
  },
  {
   "cell_type": "code",
   "execution_count": 15,
   "metadata": {},
   "outputs": [
    {
     "name": "stdout",
     "output_type": "stream",
     "text": [
      "   username  num_sharpenings  interval_days  cluster\n",
      "0       1.0        -0.630226      -0.786341        0\n",
      "1       2.0        -0.642579      -0.645105        0\n",
      "2     559.0        -0.644289      -0.916125        0\n",
      "3    1234.0        -0.642199      -0.335913        0\n",
      "4   11656.0        -0.560860      -0.843599        0\n",
      "5   12456.0         2.753138       2.137626        1\n",
      "6   12476.0         0.290730      -0.187042        0\n",
      "7   13048.0        -0.397041       1.515424        0\n",
      "8   13337.0         0.475264       0.477149        0\n",
      "9   14344.0        -0.001938      -0.416074        0\n"
     ]
    }
   ],
   "source": [
    "from sklearn.preprocessing import StandardScaler\n",
    "from sklearn.cluster import KMeans\n",
    "\n",
    "# Normalize features\n",
    "scaler = StandardScaler()\n",
    "features[['num_sharpenings', 'interval_days']] = scaler.fit_transform(features[['num_sharpenings', 'interval_days']])\n",
    "\n"
   ]
  },
  {
   "cell_type": "code",
   "execution_count": 16,
   "metadata": {},
   "outputs": [
    {
     "name": "stdout",
     "output_type": "stream",
     "text": [
      "Cluster Centers:\n",
      "[[-0.30590427 -0.23751397]\n",
      " [ 2.7531384   2.13762569]]\n",
      "\n",
      "Employee Clusters:\n",
      "   username  num_sharpenings  interval_days  cluster\n",
      "0       1.0        -0.630226      -0.786341        0\n",
      "1       2.0        -0.642579      -0.645105        0\n",
      "2     559.0        -0.644289      -0.916125        0\n",
      "3    1234.0        -0.642199      -0.335913        0\n",
      "4   11656.0        -0.560860      -0.843599        0\n",
      "5   12456.0         2.753138       2.137626        1\n",
      "6   12476.0         0.290730      -0.187042        0\n",
      "7   13048.0        -0.397041       1.515424        0\n",
      "8   13337.0         0.475264       0.477149        0\n",
      "9   14344.0        -0.001938      -0.416074        0\n"
     ]
    }
   ],
   "source": [
    "\n"
   ]
  },
  {
   "cell_type": "code",
   "execution_count": 17,
   "metadata": {},
   "outputs": [
    {
     "data": {
      "image/png": "[encoded data removed]",
      "text/plain": [
       "<Figure size 640x480 with 1 Axes>"
      ]
     },
     "metadata": {},
     "output_type": "display_data"
    }
   ],
   "source": [
    "from sklearn.cluster import KMeans\n",
    "import matplotlib.pyplot as plt\n",
    "list1 = []\n",
    "for i in range(1, 11):\n",
    "    kmeans = KMeans(n_clusters = i, init = 'k-means++', random_state = 42)\n",
    "    kmeans.fit(features)\n",
    "    list1.append(kmeans.inertia_)\n",
    "plt.plot(range(1, 11), list1)\n",
    "plt.title('The Elbow Method')\n",
    "plt.xlabel('Number of clusters')\n",
    "plt.ylabel('WCSS')\n",
    "plt.show()"
   ]
  },
  {
   "cell_type": "code",
   "execution_count": null,
   "metadata": {},
   "outputs": [],
   "source": [
    "# K-Means Clustering\n",
    "kmeans = KMeans(n_clusters=2, random_state=42)\n",
    "features['cluster'] = kmeans.fit_predict(features[['num_sharpenings', 'interval_days']])\n",
    "\n",
    "print(features)\n"
   ]
  },
  {
   "cell_type": "code",
   "execution_count": null,
   "metadata": {},
   "outputs": [],
   "source": [
    "# Print cluster centers\n",
    "print(\"Cluster Centers:\")\n",
    "print(kmeans.cluster_centers_)\n",
    "\n",
    "# Print cluster assignments\n",
    "print(\"\\nEmployee Clusters:\")\n",
    "print(features)"
   ]
  }
 ],
 "metadata": {
  "kernelspec": {
   "display_name": "Python 3",
   "language": "python",
   "name": "python3"
  },
  "language_info": {
   "codemirror_mode": {
    "name": "ipython",
    "version": 3
   },
   "file_extension": ".py",
   "mimetype": "text/x-python",
   "name": "python",
   "nbconvert_exporter": "python",
   "pygments_lexer": "ipython3",
   "version": "3.12.2"
  }
 },
 "nbformat": 4,
 "nbformat_minor": 2
}
