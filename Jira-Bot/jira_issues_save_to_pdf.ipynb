{
 "cells": [
  {
   "cell_type": "code",
   "execution_count": 1,
   "metadata": {},
   "outputs": [],
   "source": [
    "import os\n",
    "import streamlit as st\n",
    "from dotenv import load_dotenv\n",
    "from jira import JIRA\n",
    "from fpdf import FPDF\n",
    "\n",
    "# Set environment variable to handle OpenMP duplicate library issue\n",
    "os.environ[\"KMP_DUPLICATE_LIB_OK\"] = \"TRUE\""
   ]
  },
  {
   "cell_type": "code",
   "execution_count": 2,
   "metadata": {},
   "outputs": [],
   "source": [
    "# Load environment variables from .env file\n",
    "load_dotenv()\n",
    "\n",
    "# Get JIRA configuration from environment variables\n",
    "jira_server = os.getenv(\"JIRA_SERVER\")\n",
    "jira_username = os.getenv(\"JIRA_USERNAME\")\n",
    "jira_api_token = os.getenv(\"JIRA_API_TOKEN\")"
   ]
  },
  {
   "cell_type": "code",
   "execution_count": 3,
   "metadata": {},
   "outputs": [],
   "source": [
    "# Initialize JIRA connection\n",
    "def connect_to_jira():\n",
    "    try:\n",
    "        options = {\"server\": jira_server}\n",
    "        jira = JIRA(options, basic_auth=(jira_username, jira_api_token))\n",
    "        return jira\n",
    "    except Exception as e:\n",
    "        st.error(f\"Error connecting to JIRA: {e}\")\n",
    "        return None\n",
    "\n",
    "\n",
    "# Fetch issues from JIRA\n",
    "def fetch_jira_issues(jira, project_key):\n",
    "    try:\n",
    "        issues = jira.search_issues(f'project={project_key}', maxResults=False)\n",
    "        issue_data = []\n",
    "        for issue in issues:\n",
    "            issue_data.append({\n",
    "                'key': issue.key,\n",
    "                'summary': issue.fields.summary,\n",
    "                'description': issue.fields.description or 'No description'\n",
    "            })\n",
    "        return issue_data\n",
    "    except Exception as e:\n",
    "        st.error(f\"Error fetching JIRA issues: {e}\")\n",
    "        return []"
   ]
  },
  {
   "cell_type": "code",
   "execution_count": 4,
   "metadata": {},
   "outputs": [],
   "source": [
    "jira = connect_to_jira()"
   ]
  },
  {
   "cell_type": "code",
   "execution_count": 5,
   "metadata": {},
   "outputs": [],
   "source": [
    "issues = fetch_jira_issues(jira, 'TestProject')"
   ]
  },
  {
   "cell_type": "code",
   "execution_count": null,
   "metadata": {},
   "outputs": [],
   "source": [
    "issues"
   ]
  },
  {
   "cell_type": "code",
   "execution_count": 15,
   "metadata": {},
   "outputs": [],
   "source": [
    "from reportlab.lib.pagesizes import letter\n",
    "from reportlab.lib.styles import getSampleStyleSheet\n",
    "from reportlab.platypus import SimpleDocTemplate, Paragraph, Spacer\n",
    "\n",
    "def save_issues_to_pdf(issues, filename):\n",
    "    # Create a PDF document\n",
    "    doc = SimpleDocTemplate(filename, pagesize=letter)\n",
    "    \n",
    "    # Define styles\n",
    "    styles = getSampleStyleSheet()\n",
    "    normal_style = styles['Normal']\n",
    "    \n",
    "    # Create a list to hold the elements\n",
    "    elements = []\n",
    "    \n",
    "    # Add content to the document\n",
    "    for issue in issues:\n",
    "        # Create and add a paragraph for issue key\n",
    "        key_paragraph = Paragraph(f\"<b>Issue Key:</b> {issue['key']}\", normal_style)\n",
    "        elements.append(key_paragraph)\n",
    "        \n",
    "        # Add a spacer\n",
    "        elements.append(Spacer(1, 12))\n",
    "        \n",
    "        # Create and add a paragraph for summary\n",
    "        summary_paragraph = Paragraph(f\"<b>Summary:</b> {issue['summary']}\", normal_style)\n",
    "        elements.append(summary_paragraph)\n",
    "        \n",
    "        # Add a spacer\n",
    "        elements.append(Spacer(1, 12))\n",
    "        \n",
    "        # Create and add a paragraph for description\n",
    "        description_paragraph = Paragraph(f\"<b>Description:</b> {issue['description']}\", normal_style)\n",
    "        elements.append(description_paragraph)\n",
    "        \n",
    "        # Add a spacer\n",
    "        elements.append(Spacer(1, 24))  # Add more space between issues\n",
    "\n",
    "    # Build the PDF\n",
    "    doc.build(elements)\n",
    "\n",
    "# Example usage:\n",
    "# issues = [{'key': 'ISSUE-1', 'summary': 'Issue Summary', 'description': 'Issue Description'}]\n",
    "# save_issues_to_pdf(issues, \"jira_issues.pdf\")\n"
   ]
  },
  {
   "cell_type": "code",
   "execution_count": 16,
   "metadata": {},
   "outputs": [],
   "source": [
    "save_issues_to_pdf(issues, \"jira_issues.pdf\")"
   ]
  }
 ],
 "metadata": {
  "kernelspec": {
   "display_name": "aiproject",
   "language": "python",
   "name": "python3"
  },
  "language_info": {
   "codemirror_mode": {
    "name": "ipython",
    "version": 3
   },
   "file_extension": ".py",
   "mimetype": "text/x-python",
   "name": "python",
   "nbconvert_exporter": "python",
   "pygments_lexer": "ipython3",
   "version": "3.12.5"
  }
 },
 "nbformat": 4,
 "nbformat_minor": 2
}
